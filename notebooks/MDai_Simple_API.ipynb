{
  "cells": [
    {
      "cell_type": "markdown",
      "metadata": {},
      "source": [
        "# Using the MDai API\n",
        "### Get annotations, create a Pandas Dataframe, create csv, import new labels."
      ]
    },
    {
      "cell_type": "code",
      "execution_count": 1,
      "metadata": {},
      "outputs": [
        {
          "name": "stdout",
          "output_type": "stream",
          "text": [
            "\u001b[33mYou are using pip version 19.0.3, however version 19.1.1 is available.\r\n",
            "You should consider upgrading via the 'pip install --upgrade pip' command.\u001b[0m\r\n"
          ]
        }
      ],
      "source": [
        "!pip3 install -q --upgrade mdai"
      ]
    },
    {
      "cell_type": "code",
      "execution_count": null,
      "metadata": {},
      "outputs": [],
      "source": [
        "import mdai\n",
        "mdai.__version__"
      ]
    },
    {
      "cell_type": "markdown",
      "metadata": {},
      "source": [
        "### We need some variables.  \n",
        "- DOMAIN is the base portion of the project url eg. company.md.ai\n",
        "- ACCESS_TOKEN can be obtained from User Icon -> User Settings -> Personal Access Tokens\n",
        "- PROJECT_ID is shown via the info icon on the left of the Annotator"
      ]
    },
    {
      "cell_type": "code",
      "execution_count": null,
      "metadata": {},
      "outputs": [],
      "source": [
        "DOMAIN = 'Fill this in with the appropriate value'\n",
        "ACCESS_TOKEN = 'Fill this in with the appropriate value'\n",
        "PROJECT_ID = 'Fill this in with the appropriate value'"
      ]
    },
    {
      "cell_type": "markdown",
      "metadata": {},
      "source": [
        "### Create the MDai Client"
      ]
    },
    {
      "cell_type": "code",
      "execution_count": null,
      "metadata": {},
      "outputs": [],
      "source": [
        "mdai_client = mdai.Client(domain=DOMAIN, access_token=ACCESS_TOKEN)"
      ]
    },
    {
      "cell_type": "markdown",
      "metadata": {},
      "source": [
        "### Download the annotations for the project"
      ]
    },
    {
      "cell_type": "code",
      "execution_count": null,
      "metadata": {},
      "outputs": [],
      "source": [
        "mdai_client.project(PROJECT_ID, annotations_only=True)"
      ]
    },
    {
      "cell_type": "code",
      "execution_count": 2,
      "metadata": {},
      "outputs": [],
      "source": [
        "import json\n",
        "import pandas as pd"
      ]
    },
    {
      "cell_type": "markdown",
      "metadata": {},
      "source": [
        "###  Another variable - JSON_FILE\n",
        "- The project you create prints out the filename of the json annotations file.\n",
        "- Insert that into JSON_FILE variable"
      ]
    },
    {
      "cell_type": "code",
      "execution_count": 3,
      "metadata": {},
      "outputs": [],
      "source": [
        "JSON_FILE = 'Fill this in with the appropriate value'\n",
        "with open(JSON_FILE, 'r') as f:\n",
        "    data = json.load(f)"
      ]
    },
    {
      "cell_type": "code",
      "execution_count": 6,
      "metadata": {},
      "outputs": [
        {
          "data": {
            "text/html": [
              "<div>\n",
              "<style scoped>\n",
              "    .dataframe tbody tr th:only-of-type {\n",
              "        vertical-align: middle;\n",
              "    }\n",
              "\n",
              "    .dataframe tbody tr th {\n",
              "        vertical-align: top;\n",
              "    }\n",
              "\n",
              "    .dataframe thead th {\n",
              "        text-align: right;\n",
              "    }\n",
              "</style>\n",
              "<table border=\"1\" class=\"dataframe\">\n",
              "  <thead>\n",
              "    <tr style=\"text-align: right;\">\n",
              "      <th></th>\n",
              "      <th>SOPInstanceUID</th>\n",
              "      <th>SeriesInstanceUID</th>\n",
              "      <th>StudyInstanceUID</th>\n",
              "      <th>annotationNumber</th>\n",
              "      <th>createdAt</th>\n",
              "      <th>createdById</th>\n",
              "      <th>data</th>\n",
              "      <th>height</th>\n",
              "      <th>id</th>\n",
              "      <th>labelId</th>\n",
              "      <th>...</th>\n",
              "      <th>reviewsPositiveCount</th>\n",
              "      <th>updatedAt</th>\n",
              "      <th>updatedById</th>\n",
              "      <th>width</th>\n",
              "      <th>dataset</th>\n",
              "      <th>labelGroupId</th>\n",
              "      <th>labelGroupName</th>\n",
              "      <th>labelName</th>\n",
              "      <th>annotationMode</th>\n",
              "      <th>number</th>\n",
              "    </tr>\n",
              "  </thead>\n",
              "  <tbody>\n",
              "    <tr>\n",
              "      <th>0</th>\n",
              "      <td>NaN</td>\n",
              "      <td>NaN</td>\n",
              "      <td>2.16.840.1.114274.4504117462496947907456710035...</td>\n",
              "      <td>None</td>\n",
              "      <td>2018-12-03T16:43:14.886Z</td>\n",
              "      <td>U_KymW3E</td>\n",
              "      <td>None</td>\n",
              "      <td>None</td>\n",
              "      <td>A_a4dnoV</td>\n",
              "      <td>L_2l2P0B</td>\n",
              "      <td>...</td>\n",
              "      <td>0</td>\n",
              "      <td>2018-12-03T16:43:14.894Z</td>\n",
              "      <td>U_KymW3E</td>\n",
              "      <td>None</td>\n",
              "      <td>Dataset</td>\n",
              "      <td>G_76xRla</td>\n",
              "      <td>Group 2</td>\n",
              "      <td>Neck</td>\n",
              "      <td>None</td>\n",
              "      <td>29</td>\n",
              "    </tr>\n",
              "    <tr>\n",
              "      <th>1</th>\n",
              "      <td>NaN</td>\n",
              "      <td>NaN</td>\n",
              "      <td>2.16.840.1.114274.4504117462496947907456710035...</td>\n",
              "      <td>None</td>\n",
              "      <td>2018-12-03T16:43:11.872Z</td>\n",
              "      <td>U_KymW3E</td>\n",
              "      <td>None</td>\n",
              "      <td>None</td>\n",
              "      <td>A_W497pV</td>\n",
              "      <td>L_8logl7</td>\n",
              "      <td>...</td>\n",
              "      <td>0</td>\n",
              "      <td>2018-12-03T16:43:11.879Z</td>\n",
              "      <td>U_KymW3E</td>\n",
              "      <td>None</td>\n",
              "      <td>Dataset</td>\n",
              "      <td>G_76xRla</td>\n",
              "      <td>Group 2</td>\n",
              "      <td>Head</td>\n",
              "      <td>None</td>\n",
              "      <td>29</td>\n",
              "    </tr>\n",
              "    <tr>\n",
              "      <th>2</th>\n",
              "      <td>NaN</td>\n",
              "      <td>NaN</td>\n",
              "      <td>2.16.840.1.114274.4504117462496947907456710035...</td>\n",
              "      <td>None</td>\n",
              "      <td>2018-12-04T17:24:46.380Z</td>\n",
              "      <td>U_6y5LdV</td>\n",
              "      <td>None</td>\n",
              "      <td>None</td>\n",
              "      <td>A_YNjoA4</td>\n",
              "      <td>L_rj6Vjm</td>\n",
              "      <td>...</td>\n",
              "      <td>0</td>\n",
              "      <td>2018-12-04T17:24:46.468Z</td>\n",
              "      <td>U_6y5LdV</td>\n",
              "      <td>None</td>\n",
              "      <td>Dataset</td>\n",
              "      <td>G_gnD1lm</td>\n",
              "      <td>Group 3</td>\n",
              "      <td>Head</td>\n",
              "      <td>None</td>\n",
              "      <td>29</td>\n",
              "    </tr>\n",
              "    <tr>\n",
              "      <th>3</th>\n",
              "      <td>NaN</td>\n",
              "      <td>NaN</td>\n",
              "      <td>2.16.840.1.114274.6360863111461398062925621323...</td>\n",
              "      <td>None</td>\n",
              "      <td>2018-12-03T16:25:03.432Z</td>\n",
              "      <td>U_KymW3E</td>\n",
              "      <td>None</td>\n",
              "      <td>None</td>\n",
              "      <td>A_OrPZNk</td>\n",
              "      <td>L_2l2P0B</td>\n",
              "      <td>...</td>\n",
              "      <td>0</td>\n",
              "      <td>2018-12-03T16:25:03.440Z</td>\n",
              "      <td>U_KymW3E</td>\n",
              "      <td>None</td>\n",
              "      <td>Dataset</td>\n",
              "      <td>G_76xRla</td>\n",
              "      <td>Group 2</td>\n",
              "      <td>Neck</td>\n",
              "      <td>None</td>\n",
              "      <td>20</td>\n",
              "    </tr>\n",
              "    <tr>\n",
              "      <th>4</th>\n",
              "      <td>NaN</td>\n",
              "      <td>NaN</td>\n",
              "      <td>2.16.840.1.114274.6360863111461398062925621323...</td>\n",
              "      <td>None</td>\n",
              "      <td>2018-12-04T17:23:55.043Z</td>\n",
              "      <td>U_6y5LdV</td>\n",
              "      <td>None</td>\n",
              "      <td>None</td>\n",
              "      <td>A_KVpjz4</td>\n",
              "      <td>L_Mj51jN</td>\n",
              "      <td>...</td>\n",
              "      <td>0</td>\n",
              "      <td>2018-12-04T17:23:55.049Z</td>\n",
              "      <td>U_6y5LdV</td>\n",
              "      <td>None</td>\n",
              "      <td>Dataset</td>\n",
              "      <td>G_gnD1lm</td>\n",
              "      <td>Group 3</td>\n",
              "      <td>Neck</td>\n",
              "      <td>None</td>\n",
              "      <td>20</td>\n",
              "    </tr>\n",
              "  </tbody>\n",
              "</table>\n",
              "<p>5 rows × 24 columns</p>\n",
              "</div>"
            ],
            "text/plain": [
              "  SOPInstanceUID SeriesInstanceUID  \\\n",
              "0            NaN               NaN   \n",
              "1            NaN               NaN   \n",
              "2            NaN               NaN   \n",
              "3            NaN               NaN   \n",
              "4            NaN               NaN   \n",
              "\n",
              "                                    StudyInstanceUID annotationNumber  \\\n",
              "0  2.16.840.1.114274.4504117462496947907456710035...             None   \n",
              "1  2.16.840.1.114274.4504117462496947907456710035...             None   \n",
              "2  2.16.840.1.114274.4504117462496947907456710035...             None   \n",
              "3  2.16.840.1.114274.6360863111461398062925621323...             None   \n",
              "4  2.16.840.1.114274.6360863111461398062925621323...             None   \n",
              "\n",
              "                  createdAt createdById  data height        id   labelId  \\\n",
              "0  2018-12-03T16:43:14.886Z    U_KymW3E  None   None  A_a4dnoV  L_2l2P0B   \n",
              "1  2018-12-03T16:43:11.872Z    U_KymW3E  None   None  A_W497pV  L_8logl7   \n",
              "2  2018-12-04T17:24:46.380Z    U_6y5LdV  None   None  A_YNjoA4  L_rj6Vjm   \n",
              "3  2018-12-03T16:25:03.432Z    U_KymW3E  None   None  A_OrPZNk  L_2l2P0B   \n",
              "4  2018-12-04T17:23:55.043Z    U_6y5LdV  None   None  A_KVpjz4  L_Mj51jN   \n",
              "\n",
              "   ...   reviewsPositiveCount                 updatedAt updatedById  width  \\\n",
              "0  ...                      0  2018-12-03T16:43:14.894Z    U_KymW3E   None   \n",
              "1  ...                      0  2018-12-03T16:43:11.879Z    U_KymW3E   None   \n",
              "2  ...                      0  2018-12-04T17:24:46.468Z    U_6y5LdV   None   \n",
              "3  ...                      0  2018-12-03T16:25:03.440Z    U_KymW3E   None   \n",
              "4  ...                      0  2018-12-04T17:23:55.049Z    U_6y5LdV   None   \n",
              "\n",
              "   dataset   labelGroupId labelGroupName labelName annotationMode number  \n",
              "0  Dataset  G_76xRla   Group 2      Neck           None     29  \n",
              "1  Dataset  G_76xRla   Group 2      Head           None     29  \n",
              "2  Dataset  G_gnD1lm   Group 3      Head           None     29  \n",
              "3  Dataset  G_76xRla   Group 2      Neck           None     20  \n",
              "4  Dataset  G_gnD1lm   Group 3      Neck           None     20  \n",
              "\n",
              "[5 rows x 24 columns]"
            ]
          },
          "execution_count": 6,
          "metadata": {},
          "output_type": "execute_result"
        }
      ],
      "source": [
        "def unpackDictionary(df, column):\n",
        "    ret = None\n",
        "    ret = pd.concat([df, pd.DataFrame((d for idx, d in df[column].items()))], axis=1)\n",
        "    del ret[column]\n",
        "    return ret\n",
        "\n",
        "a = pd.DataFrame([])\n",
        "studies = pd.DataFrame([])\n",
        "\n",
        "# Gets annotations for all datasets\n",
        "for d in data['datasets']:\n",
        "    annotations = pd.DataFrame(d['annotations'])\n",
        "    annotations['dataset'] = d['name']\n",
        "    study = pd.DataFrame(d['studies'])\n",
        "    study['dataset'] = d['name']\n",
        "    a = a.append(annotations,ignore_index=True)\n",
        "    studies = studies.append(study,ignore_index=True)\n",
        "\n",
        "studies = studies[['StudyInstanceUID', 'dataset', 'number']]\n",
        "g = pd.DataFrame(data['labelGroups'])\n",
        "\n",
        "#unpack arrays\n",
        "result = pd.DataFrame([(d, tup.id, tup.name) for tup in g.itertuples() for d in tup.labels])\n",
        "result.columns = ['labels','id','name']\n",
        "\n",
        "labelGroups = unpackDictionary(result, 'labels')\n",
        "labelGroups = labelGroups[['id','name','annotationMode']]\n",
        "labelGroups.columns = ['labelId','labelGroupId','labelGroupName','labelName','annotationMode']\n",
        "\n",
        "a = a.merge(labelGroups, on='labelId')\n",
        "a = a.merge(studies[['StudyInstanceUID', 'number']], on='StudyInstanceUID')\n",
        "a.head()"
      ]
    },
    {
      "cell_type": "code",
      "execution_count": 7,
      "metadata": {},
      "outputs": [
        {
          "data": {
            "text/plain": [
              "Index(['SOPInstanceUID', 'SeriesInstanceUID', 'StudyInstanceUID',\n",
              "       'annotationNumber', 'createdAt', 'createdById', 'data', 'height', 'id',\n",
              "       'labelId', 'modelId', 'note', 'radlexTagIds',\n",
              "       'reviewsNegativeCount', 'reviewsPositiveCount', 'updatedAt',\n",
              "       'updatedById', 'width', 'dataset', 'labelGroupId', 'labelGroupName', 'labelName',\n",
              "       'annotationMode', 'number'],\n",
              "      dtype='object')"
            ]
          },
          "execution_count": 7,
          "metadata": {},
          "output_type": "execute_result"
        }
      ],
      "source": [
        "a.columns"
      ]
    },
    {
      "cell_type": "markdown",
      "metadata": {},
      "source": [
        "# Create csv"
      ]
    },
    {
      "cell_type": "code",
      "execution_count": null,
      "metadata": {},
      "outputs": [],
      "source": [
        "a.to_csv(\"annotations.csv\", index=False)"
      ]
    },
    {
      "cell_type": "markdown",
      "metadata": {},
      "source": [
        "# Importing Annotations or Predictions"
      ]
    },
    {
      "cell_type": "markdown",
      "metadata": {},
      "source": [
        "### Importing labels, we need some more variables\n",
        "- LABEL_ID - create a new label, show id using Label Controls, copy and fill in\n",
        "- DATASET_ID s shown via the info icon on the left of the Annotator\n",
        "- MODEL_ID - go to the Models tab on the left, create a new Model and name it or use the id for a prior model"
      ]
    },
    {
      "cell_type": "code",
      "execution_count": null,
      "metadata": {},
      "outputs": [],
      "source": [
        "LABEL_ID = 'Fill this in with the appropriate value'\n",
        "DATASET_ID = 'Fill this in with the appropriate value'\n",
        "MODEL_ID = 'Fill this in with the appropriate value'"
      ]
    },
    {
      "cell_type": "markdown",
      "metadata": {},
      "source": [
        "### Create subset"
      ]
    },
    {
      "cell_type": "code",
      "execution_count": null,
      "metadata": {},
      "outputs": [],
      "source": [
        "#For example, get all exams with MLA\n",
        "subset = a[~a.modelId.isnull()]"
      ]
    },
    {
      "cell_type": "markdown",
      "metadata": {},
      "source": [
        "### Create imported annotations dictionary\n",
        "- Use correct format for type and scope of annotation|"
      ]
    },
    {
      "cell_type": "code",
      "execution_count": null,
      "metadata": {},
      "outputs": [],
      "source": [
        "#For example, this is a global label at the exam level\n",
        "annotations = []\n",
        "for i,row in subset.iterrows():\n",
        "  annotations.append( {\n",
        "    'labelId': LABEL_ID,\n",
        "    'StudyInstanceUID': row.StudyInstanceUID\n",
        "  })\n",
        "  \n",
        "len(annotations)"
      ]
    },
    {
      "cell_type": "markdown",
      "metadata": {},
      "source": [
        "### Or use this for bounding boxes"
      ]
    },
    {
      "cell_type": "code",
      "execution_count": null,
      "metadata": {},
      "outputs": [],
      "source": [
        "# local image-scoped label where annotation mode is 'bbox' (Bounding Box)\n",
        "annotations = []\n",
        "for i,row in subset.iterrows():\n",
        "  annotations.append( {\n",
        "    'labelId': LABEL_ID,\n",
        "    'SOPInstanceUID': row.StudyInstanceUID,\n",
        "    'data': {'x': 200, 'y': 200, 'width': 200, 'height': 400}\n",
        "  })\n",
        "  \n",
        "len(annotations)"
      ]
    },
    {
      "cell_type": "markdown",
      "metadata": {},
      "source": [
        "### Import your annotations\n",
        "- If all works, you should see the labels in your project Progress "
      ]
    },
    {
      "cell_type": "code",
      "execution_count": null,
      "metadata": {},
      "outputs": [],
      "source": [
        "#Import\n",
        "mdai_client.load_model_annotations(PROJECT_ID, DATASET_ID, MODEL_ID, annotations)"
      ]
    }
  ],
  "metadata": {
    "kernelspec": {
      "display_name": "Python 3",
      "language": "python",
      "name": "python3"
    },
    "language_info": {
      "codemirror_mode": {
        "name": "ipython",
        "version": 3
      },
      "file_extension": ".py",
      "mimetype": "text/x-python",
      "name": "python",
      "nbconvert_exporter": "python",
      "pygments_lexer": "ipython3",
      "version": "3.7.1"
    }
  },
  "nbformat": 4,
  "nbformat_minor": 2
}
